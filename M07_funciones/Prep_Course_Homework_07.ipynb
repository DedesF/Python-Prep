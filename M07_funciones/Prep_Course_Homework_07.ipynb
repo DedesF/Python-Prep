{
 "cells": [
  {
   "attachments": {},
   "cell_type": "markdown",
   "metadata": {},
   "source": [
    "## Funciones"
   ]
  },
  {
   "attachments": {},
   "cell_type": "markdown",
   "metadata": {},
   "source": [
    "1) Crear una función que reciba un número como parámetro y devuelva True si es primo y False si no lo es"
   ]
  },
  {
   "cell_type": "code",
   "execution_count": 25,
   "metadata": {},
   "outputs": [],
   "source": [
    "def primos(num = int):\n",
    "    primo = True\n",
    "    if (num<=2):\n",
    "        primo = False\n",
    "    else:\n",
    "        for y in range(2,num):\n",
    "            if (num%y == 0):\n",
    "                primo = False\n",
    "                break\n",
    "    return primo"
   ]
  },
  {
   "cell_type": "code",
   "execution_count": 31,
   "metadata": {},
   "outputs": [
    {
     "data": {
      "text/plain": [
       "False"
      ]
     },
     "execution_count": 31,
     "metadata": {},
     "output_type": "execute_result"
    }
   ],
   "source": [
    "primos(2)"
   ]
  },
  {
   "attachments": {},
   "cell_type": "markdown",
   "metadata": {},
   "source": [
    "2) Utilizando la función del punto 1, realizar otra función que reciba de parámetro una lista de números y devuelva sólo aquellos que son primos en otra lista"
   ]
  },
  {
   "cell_type": "code",
   "execution_count": 81,
   "metadata": {},
   "outputs": [],
   "source": [
    "def lista_primos(lista):\n",
    "    primoslist = []\n",
    "    for elemento in lista:\n",
    "        if primos(elemento):\n",
    "            primoslist.append(elemento)\n",
    "    print(primoslist)"
   ]
  },
  {
   "cell_type": "code",
   "execution_count": 38,
   "metadata": {},
   "outputs": [],
   "source": [
    "def filtroprimos(lista = list):\n",
    "    lista_primos = []    \n",
    "\n",
    "    for num in lista:\n",
    "        primo = True\n",
    "\n",
    "        if (num <= 2):\n",
    "            continue\n",
    "        else:\n",
    "            for y in range(2, num):\n",
    "                if (num%y == 0):\n",
    "                    primo = False\n",
    "                    break\n",
    "            if (primo == True):\n",
    "                lista_primos.append(num)\n",
    "    return lista_primos\n"
   ]
  },
  {
   "cell_type": "code",
   "execution_count": 82,
   "metadata": {},
   "outputs": [
    {
     "name": "stdout",
     "output_type": "stream",
     "text": [
      "[3, 5, 7, 11, 13, 17]\n"
     ]
    }
   ],
   "source": [
    "lista1 = [1,2,3,4,5,6,7,8,9,10,11,12,13,14,15,16,17]\n",
    "\n",
    "lista_primos(lista1)"
   ]
  },
  {
   "attachments": {},
   "cell_type": "markdown",
   "metadata": {},
   "source": [
    "3) Crear una función que al recibir una lista de números, devuelva el que más se repite y cuántas veces lo hace. Si hay más de un \"más repetido\", que devuelva cualquiera"
   ]
  },
  {
   "cell_type": "code",
   "execution_count": 31,
   "metadata": {},
   "outputs": [],
   "source": [
    "lista2 = [1,1,1,2,2,3,3,3,3,4,4,5,6,7,8,8,8,9]\n",
    "\n",
    "def moda(lista = list):\n",
    "    unicos = []\n",
    "    moda = []\n",
    "    maximo = 0\n",
    "\n",
    "    for elemento in lista:\n",
    "        if elemento not in unicos:\n",
    "            unicos.append(elemento)\n",
    "\n",
    "    for elemento in unicos:\n",
    "        contador = 0\n",
    "        for repetido in lista:\n",
    "            if (elemento == repetido):\n",
    "                contador += 1\n",
    "        moda.append(contador)\n",
    "\n",
    "    for i, elemento in enumerate(moda):        \n",
    "        if (maximo < moda[i]):            \n",
    "            maximo = moda[i]\n",
    "            repetido = unicos[i]\n",
    "    return repetido, maximo"
   ]
  },
  {
   "cell_type": "code",
   "execution_count": 32,
   "metadata": {},
   "outputs": [
    {
     "data": {
      "text/plain": [
       "(3, 4)"
      ]
     },
     "execution_count": 32,
     "metadata": {},
     "output_type": "execute_result"
    }
   ],
   "source": [
    "moda(lista2)"
   ]
  },
  {
   "attachments": {},
   "cell_type": "markdown",
   "metadata": {},
   "source": [
    "4) Crear una función que convierta entre grados Celsius, Farenheit y Kelvin<br>\n",
    "Fórmula 1\t: (°C × 9/5) + 32 = °F<br>\n",
    "Fórmula 2\t: °C + 273.15 = °K<br>\n",
    "Debe recibir 3 parámetros: el valor, la medida de orígen y la medida de destino\n"
   ]
  },
  {
   "cell_type": "code",
   "execution_count": 104,
   "metadata": {},
   "outputs": [],
   "source": [
    "def convertir(valor=int, origen=str, destino=str):\n",
    "    resultado = 0\n",
    "    if (origen == 'celsius'):\n",
    "        if (destino == 'celsius'):\n",
    "            resultado = valor\n",
    "        elif (destino == 'farenheit'):\n",
    "            resultado = (valor * 9 / 5) + 32\n",
    "        elif (destino == 'kelvin'):\n",
    "            resultado = valor + 273.15\n",
    "    elif (origen == 'farenheit'):\n",
    "        if (destino == 'celsius'):\n",
    "            resultado = (valor - 32) * 5 / 9\n",
    "        elif (destino == 'farenheit'):\n",
    "            resultado = valor\n",
    "        elif (destino == 'kelvin'):\n",
    "            resultado = ((valor - 32) * 5 / 9) + 273.15\n",
    "    elif (origen == 'kelvin'):\n",
    "        if (destino == 'celsius'):\n",
    "            resultado = valor - 273.15\n",
    "        elif (destino == 'farenheit'):\n",
    "            resultado = ((valor - 273.15) * 9 / 5) + 32\n",
    "        elif (destino == 'kelvin'):\n",
    "            resultado = valor\n",
    "    else:\n",
    "        print(' El valor debe ser un número entero.\\n',\n",
    "            'Origen y destino deben ser celsius, farenheit o kelvin')\n",
    "        return None\n",
    "    \n",
    "    return resultado"
   ]
  },
  {
   "cell_type": "code",
   "execution_count": 106,
   "metadata": {},
   "outputs": [
    {
     "data": {
      "text/plain": [
       "-270.15"
      ]
     },
     "execution_count": 106,
     "metadata": {},
     "output_type": "execute_result"
    }
   ],
   "source": [
    "convertir(3, 'kelvin', 'celsius')"
   ]
  },
  {
   "attachments": {},
   "cell_type": "markdown",
   "metadata": {},
   "source": [
    "5) Iterando una lista con los tres valores posibles de temperatura que recibe la función del punto 5, hacer un print para cada combinación de los mismos:"
   ]
  },
  {
   "cell_type": "code",
   "execution_count": 111,
   "metadata": {},
   "outputs": [
    {
     "name": "stdout",
     "output_type": "stream",
     "text": [
      "las combinaciones que se pueden hacer cuando el origen es celsius :\n",
      "convertir los grados de celsius a celsius\n",
      "convertir los grados de celsius a farenheit\n",
      "convertir los grados de celsius a kelvin\n",
      "las combinaciones que se pueden hacer cuando el origen es farenheit :\n",
      "convertir los grados de farenheit a celsius\n",
      "convertir los grados de farenheit a farenheit\n",
      "convertir los grados de farenheit a kelvin\n",
      "las combinaciones que se pueden hacer cuando el origen es kelvin :\n",
      "convertir los grados de kelvin a celsius\n",
      "convertir los grados de kelvin a farenheit\n",
      "convertir los grados de kelvin a kelvin\n"
     ]
    }
   ],
   "source": [
    "escalas = ['celsius', 'farenheit', 'kelvin']\n",
    "\n",
    "for a in escalas:\n",
    "    print('las combinaciones que se pueden hacer cuando el origen es', a, ':')\n",
    "    for b in escalas:\n",
    "        print('convertir los grados de', a, 'a', b)"
   ]
  },
  {
   "attachments": {},
   "cell_type": "markdown",
   "metadata": {},
   "source": [
    "6) Armar una función que devuelva el factorial de un número. Tener en cuenta que el usuario puede equivocarse y enviar de parámetro un número no entero o negativo"
   ]
  },
  {
   "cell_type": "code",
   "execution_count": 7,
   "metadata": {},
   "outputs": [],
   "source": [
    "def factorial(num):\n",
    "    if (type(num) != int or num < 0):\n",
    "        print('Debe ingresar un número entero y mayor que 0')\n",
    "        return None\n",
    "    if (num > 1):\n",
    "        num = num*factorial(num - 1)\n",
    "    return num"
   ]
  },
  {
   "cell_type": "code",
   "execution_count": 8,
   "metadata": {},
   "outputs": [
    {
     "data": {
      "text/plain": [
       "24"
      ]
     },
     "execution_count": 8,
     "metadata": {},
     "output_type": "execute_result"
    }
   ],
   "source": [
    "factorial(4)"
   ]
  },
  {
   "cell_type": "code",
   "execution_count": 165,
   "metadata": {},
   "outputs": [],
   "source": [
    "def sumar(num):\n",
    "    if (num > 1):\n",
    "        num = num + sumar(num - 1)\n",
    "    return num"
   ]
  },
  {
   "cell_type": "code",
   "execution_count": 166,
   "metadata": {},
   "outputs": [
    {
     "data": {
      "text/plain": [
       "15"
      ]
     },
     "execution_count": 166,
     "metadata": {},
     "output_type": "execute_result"
    }
   ],
   "source": [
    "sumar(5)"
   ]
  }
 ],
 "metadata": {
  "interpreter": {
   "hash": "c85384e4cb51c8b72350f3a8712cc8351fdc3955e32a27f9b60c6242ab125f01"
  },
  "kernelspec": {
   "display_name": "Python 3 (ipykernel)",
   "language": "python",
   "name": "python3"
  },
  "language_info": {
   "codemirror_mode": {
    "name": "ipython",
    "version": 3
   },
   "file_extension": ".py",
   "mimetype": "text/x-python",
   "name": "python",
   "nbconvert_exporter": "python",
   "pygments_lexer": "ipython3",
   "version": "3.12.0"
  }
 },
 "nbformat": 4,
 "nbformat_minor": 4
}
