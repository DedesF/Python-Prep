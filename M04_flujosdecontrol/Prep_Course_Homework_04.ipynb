{
 "cells": [
  {
   "attachments": {},
   "cell_type": "markdown",
   "metadata": {},
   "source": [
    "## Flujos de Control"
   ]
  },
  {
   "attachments": {},
   "cell_type": "markdown",
   "metadata": {},
   "source": [
    "1) Crear una variable que contenga un elemento del conjunto de números enteros y luego imprimir por pantalla si es mayor o menor a cero"
   ]
  },
  {
   "cell_type": "code",
   "execution_count": 4,
   "metadata": {},
   "outputs": [
    {
     "name": "stdout",
     "output_type": "stream",
     "text": [
      "a es mayor que 0\n"
     ]
    }
   ],
   "source": [
    "a = 8\n",
    "if (a > 0):\n",
    "    print('a es mayor que 0')\n",
    "elif (a < 0):\n",
    "    print('a es menor que 0')\n",
    "else:\n",
    "    print('a es igual a 0')"
   ]
  },
  {
   "attachments": {},
   "cell_type": "markdown",
   "metadata": {},
   "source": [
    "2) Crear dos variables y un condicional que informe si son del mismo tipo de dato"
   ]
  },
  {
   "cell_type": "code",
   "execution_count": 5,
   "metadata": {},
   "outputs": [
    {
     "name": "stdout",
     "output_type": "stream",
     "text": [
      "a y b son de distinto tipo, a es del tipo  <class 'int'> y b es del tipo  <class 'str'>\n"
     ]
    }
   ],
   "source": [
    "a = 8\n",
    "b = '8'\n",
    "\n",
    "if (type(a)==b):\n",
    "    print('a y b son ambas del tipo ', type(a))\n",
    "else:\n",
    "    print('a y b son de distinto tipo, a es del tipo ', type(a), 'y b es del tipo ', type(b))"
   ]
  },
  {
   "attachments": {},
   "cell_type": "markdown",
   "metadata": {},
   "source": [
    "3) Para los valores enteros del 1 al 20, imprimir por pantalla si es par o impar"
   ]
  },
  {
   "cell_type": "code",
   "execution_count": 6,
   "metadata": {},
   "outputs": [
    {
     "name": "stdout",
     "output_type": "stream",
     "text": [
      "El número 1 es impar\n",
      "El número 2 es par\n",
      "El número 3 es impar\n",
      "El número 4 es par\n",
      "El número 5 es impar\n",
      "El número 6 es par\n",
      "El número 7 es impar\n",
      "El número 8 es par\n",
      "El número 9 es impar\n",
      "El número 10 es par\n",
      "El número 11 es impar\n",
      "El número 12 es par\n",
      "El número 13 es impar\n",
      "El número 14 es par\n",
      "El número 15 es impar\n",
      "El número 16 es par\n",
      "El número 17 es impar\n",
      "El número 18 es par\n",
      "El número 19 es impar\n",
      "El número 20 es par\n"
     ]
    }
   ],
   "source": [
    "for x in range(1,21):\n",
    "    if (x % 2 == 0):\n",
    "        print(f'El número {str(x)} es par')\n",
    "    else:\n",
    "        print(f'El número {str(x)} es impar')"
   ]
  },
  {
   "attachments": {},
   "cell_type": "markdown",
   "metadata": {},
   "source": [
    "4) En un ciclo for mostrar para los valores entre 0 y 5 el resultado de elevarlo a la potencia igual a 3"
   ]
  },
  {
   "cell_type": "code",
   "execution_count": 7,
   "metadata": {},
   "outputs": [
    {
     "name": "stdout",
     "output_type": "stream",
     "text": [
      "0\n",
      "1\n",
      "8\n",
      "27\n",
      "64\n",
      "125\n"
     ]
    }
   ],
   "source": [
    "for x in range(6):\n",
    "    print(x**3)"
   ]
  },
  {
   "attachments": {},
   "cell_type": "markdown",
   "metadata": {},
   "source": [
    "5) Crear una variable que contenga un número entero y realizar un ciclo for la misma cantidad de ciclos"
   ]
  },
  {
   "cell_type": "code",
   "execution_count": 8,
   "metadata": {},
   "outputs": [
    {
     "name": "stdout",
     "output_type": "stream",
     "text": [
      "0\n",
      "1\n",
      "2\n",
      "3\n",
      "4\n"
     ]
    }
   ],
   "source": [
    "a = 5\n",
    "for x in range(a):\n",
    "    print(x)"
   ]
  },
  {
   "attachments": {},
   "cell_type": "markdown",
   "metadata": {},
   "source": [
    "6) Utilizar un ciclo while para realizar el factorial de un número guardado en una variable, sólo si la variable contiene un número entero mayor a 0"
   ]
  },
  {
   "cell_type": "code",
   "execution_count": 32,
   "metadata": {},
   "outputs": [
    {
     "name": "stdout",
     "output_type": "stream",
     "text": [
      "720\n"
     ]
    }
   ],
   "source": [
    "# El factorial de un número es la multiplicación de todos los enteros entre 1 y dicho múmero\n",
    "var = 6 # Factorial = 1*2*3*4*5\n",
    "if (var <= 0):\n",
    "    print('Se requiere un número entero mayor a 0')\n",
    "elif (type(var) != int):\n",
    "    print('Se requiere un número entero mayor a 0')\n",
    "else:\n",
    "    x = 1 \n",
    "    fact = 1  \n",
    "    while (x <= var):\n",
    "        fact = fact * x\n",
    "        x += 1\n",
    "print(fact)"
   ]
  },
  {
   "cell_type": "code",
   "execution_count": 27,
   "metadata": {},
   "outputs": [
    {
     "name": "stdout",
     "output_type": "stream",
     "text": [
      "120\n"
     ]
    }
   ],
   "source": [
    "x = 1\n",
    "fact = 1\n",
    "while (x <= 5):        \n",
    "    fact = fact*x \n",
    "    x += 1\n",
    "print(fact)"
   ]
  },
  {
   "attachments": {},
   "cell_type": "markdown",
   "metadata": {},
   "source": [
    "7) Crear un ciclo for dentro de un ciclo while"
   ]
  },
  {
   "cell_type": "code",
   "execution_count": 10,
   "metadata": {},
   "outputs": [
    {
     "name": "stdout",
     "output_type": "stream",
     "text": [
      "multiplicación de 1\n",
      "1\n",
      "2\n",
      "multiplicación de 2\n",
      "2\n",
      "4\n",
      "multiplicación de 3\n",
      "3\n",
      "6\n",
      "multiplicación de 4\n",
      "4\n",
      "8\n",
      "multiplicación de 5\n",
      "5\n",
      "10\n"
     ]
    }
   ],
   "source": [
    "x = 1\n",
    "while (x <= 5):\n",
    "    print(f'multiplicación de {x}')\n",
    "    for y in range(1,3):\n",
    "        print(y*x)\n",
    "    x += 1"
   ]
  },
  {
   "attachments": {},
   "cell_type": "markdown",
   "metadata": {},
   "source": [
    "8) Crear un ciclo while dentro de un ciclo for"
   ]
  },
  {
   "cell_type": "code",
   "execution_count": 11,
   "metadata": {},
   "outputs": [
    {
     "name": "stdout",
     "output_type": "stream",
     "text": [
      "Multiplicación de 0\n",
      "0 x 1 = 0\n",
      "0 x 2 = 0\n",
      "0 x 3 = 0\n",
      "Multiplicación de 1\n",
      "1 x 1 = 1\n",
      "1 x 2 = 2\n",
      "1 x 3 = 3\n",
      "Multiplicación de 2\n",
      "2 x 1 = 2\n",
      "2 x 2 = 4\n",
      "2 x 3 = 6\n"
     ]
    }
   ],
   "source": [
    "for x in range(3):\n",
    "    print(f'Multiplicación de {x}')\n",
    "    y = 1\n",
    "    while (y <= 3):\n",
    "        print(f'{x} x {y} = {x*y}')\n",
    "        y += 1"
   ]
  },
  {
   "attachments": {},
   "cell_type": "markdown",
   "metadata": {},
   "source": [
    "9) Imprimir los números primos existentes entre 0 y 30"
   ]
  },
  {
   "cell_type": "code",
   "execution_count": 48,
   "metadata": {},
   "outputs": [
    {
     "name": "stdout",
     "output_type": "stream",
     "text": [
      "para x = 2\n",
      "para x = 3\n",
      "1.5\n",
      "para x = 4\n",
      "2.0\n",
      "1.3333333333333333\n",
      "para x = 5\n",
      "2.5\n",
      "1.6666666666666667\n",
      "1.25\n",
      "para x = 6\n",
      "3.0\n",
      "2.0\n",
      "1.5\n",
      "1.2\n",
      "para x = 7\n",
      "3.5\n",
      "2.3333333333333335\n",
      "1.75\n",
      "1.4\n",
      "1.1666666666666667\n",
      "para x = 8\n",
      "4.0\n",
      "2.6666666666666665\n",
      "2.0\n",
      "1.6\n",
      "1.3333333333333333\n",
      "1.1428571428571428\n",
      "para x = 9\n",
      "4.5\n",
      "3.0\n",
      "2.25\n",
      "1.8\n",
      "1.5\n",
      "1.2857142857142858\n",
      "1.125\n",
      "para x = 10\n",
      "5.0\n",
      "3.3333333333333335\n",
      "2.5\n",
      "2.0\n",
      "1.6666666666666667\n",
      "1.4285714285714286\n",
      "1.25\n",
      "1.1111111111111112\n",
      "para x = 11\n",
      "5.5\n",
      "3.6666666666666665\n",
      "2.75\n",
      "2.2\n",
      "1.8333333333333333\n",
      "1.5714285714285714\n",
      "1.375\n",
      "1.2222222222222223\n",
      "1.1\n",
      "para x = 12\n",
      "6.0\n",
      "4.0\n",
      "3.0\n",
      "2.4\n",
      "2.0\n",
      "1.7142857142857142\n",
      "1.5\n",
      "1.3333333333333333\n",
      "1.2\n",
      "1.0909090909090908\n",
      "para x = 13\n",
      "6.5\n",
      "4.333333333333333\n",
      "3.25\n",
      "2.6\n",
      "2.1666666666666665\n",
      "1.8571428571428572\n",
      "1.625\n",
      "1.4444444444444444\n",
      "1.3\n",
      "1.1818181818181819\n",
      "1.0833333333333333\n",
      "para x = 14\n",
      "7.0\n",
      "4.666666666666667\n",
      "3.5\n",
      "2.8\n",
      "2.3333333333333335\n",
      "2.0\n",
      "1.75\n",
      "1.5555555555555556\n",
      "1.4\n",
      "1.2727272727272727\n",
      "1.1666666666666667\n",
      "1.0769230769230769\n",
      "para x = 15\n",
      "7.5\n",
      "5.0\n",
      "3.75\n",
      "3.0\n",
      "2.5\n",
      "2.142857142857143\n",
      "1.875\n",
      "1.6666666666666667\n",
      "1.5\n",
      "1.3636363636363635\n",
      "1.25\n",
      "1.1538461538461537\n",
      "1.0714285714285714\n",
      "para x = 16\n",
      "8.0\n",
      "5.333333333333333\n",
      "4.0\n",
      "3.2\n",
      "2.6666666666666665\n",
      "2.2857142857142856\n",
      "2.0\n",
      "1.7777777777777777\n",
      "1.6\n",
      "1.4545454545454546\n",
      "1.3333333333333333\n",
      "1.2307692307692308\n",
      "1.1428571428571428\n",
      "1.0666666666666667\n",
      "para x = 17\n",
      "8.5\n",
      "5.666666666666667\n",
      "4.25\n",
      "3.4\n",
      "2.8333333333333335\n",
      "2.4285714285714284\n",
      "2.125\n",
      "1.8888888888888888\n",
      "1.7\n",
      "1.5454545454545454\n",
      "1.4166666666666667\n",
      "1.3076923076923077\n",
      "1.2142857142857142\n",
      "1.1333333333333333\n",
      "1.0625\n",
      "para x = 18\n",
      "9.0\n",
      "6.0\n",
      "4.5\n",
      "3.6\n",
      "3.0\n",
      "2.5714285714285716\n",
      "2.25\n",
      "2.0\n",
      "1.8\n",
      "1.6363636363636365\n",
      "1.5\n",
      "1.3846153846153846\n",
      "1.2857142857142858\n",
      "1.2\n",
      "1.125\n",
      "1.0588235294117647\n",
      "para x = 19\n",
      "9.5\n",
      "6.333333333333333\n",
      "4.75\n",
      "3.8\n",
      "3.1666666666666665\n",
      "2.7142857142857144\n",
      "2.375\n",
      "2.111111111111111\n",
      "1.9\n",
      "1.7272727272727273\n",
      "1.5833333333333333\n",
      "1.4615384615384615\n",
      "1.3571428571428572\n",
      "1.2666666666666666\n",
      "1.1875\n",
      "1.1176470588235294\n",
      "1.0555555555555556\n",
      "para x = 20\n",
      "10.0\n",
      "6.666666666666667\n",
      "5.0\n",
      "4.0\n",
      "3.3333333333333335\n",
      "2.857142857142857\n",
      "2.5\n",
      "2.2222222222222223\n",
      "2.0\n",
      "1.8181818181818181\n",
      "1.6666666666666667\n",
      "1.5384615384615385\n",
      "1.4285714285714286\n",
      "1.3333333333333333\n",
      "1.25\n",
      "1.1764705882352942\n",
      "1.1111111111111112\n",
      "1.0526315789473684\n",
      "para x = 21\n",
      "10.5\n",
      "7.0\n",
      "5.25\n",
      "4.2\n",
      "3.5\n",
      "3.0\n",
      "2.625\n",
      "2.3333333333333335\n",
      "2.1\n",
      "1.9090909090909092\n",
      "1.75\n",
      "1.6153846153846154\n",
      "1.5\n",
      "1.4\n",
      "1.3125\n",
      "1.2352941176470589\n",
      "1.1666666666666667\n",
      "1.105263157894737\n",
      "1.05\n",
      "para x = 22\n",
      "11.0\n",
      "7.333333333333333\n",
      "5.5\n",
      "4.4\n",
      "3.6666666666666665\n",
      "3.142857142857143\n",
      "2.75\n",
      "2.4444444444444446\n",
      "2.2\n",
      "2.0\n",
      "1.8333333333333333\n",
      "1.6923076923076923\n",
      "1.5714285714285714\n",
      "1.4666666666666666\n",
      "1.375\n",
      "1.2941176470588236\n",
      "1.2222222222222223\n",
      "1.1578947368421053\n",
      "1.1\n",
      "1.0476190476190477\n",
      "para x = 23\n",
      "11.5\n",
      "7.666666666666667\n",
      "5.75\n",
      "4.6\n",
      "3.8333333333333335\n",
      "3.2857142857142856\n",
      "2.875\n",
      "2.5555555555555554\n",
      "2.3\n",
      "2.090909090909091\n",
      "1.9166666666666667\n",
      "1.7692307692307692\n",
      "1.6428571428571428\n",
      "1.5333333333333334\n",
      "1.4375\n",
      "1.3529411764705883\n",
      "1.2777777777777777\n",
      "1.2105263157894737\n",
      "1.15\n",
      "1.0952380952380953\n",
      "1.0454545454545454\n",
      "para x = 24\n",
      "12.0\n",
      "8.0\n",
      "6.0\n",
      "4.8\n",
      "4.0\n",
      "3.4285714285714284\n",
      "3.0\n",
      "2.6666666666666665\n",
      "2.4\n",
      "2.1818181818181817\n",
      "2.0\n",
      "1.8461538461538463\n",
      "1.7142857142857142\n",
      "1.6\n",
      "1.5\n",
      "1.411764705882353\n",
      "1.3333333333333333\n",
      "1.263157894736842\n",
      "1.2\n",
      "1.1428571428571428\n",
      "1.0909090909090908\n",
      "1.0434782608695652\n",
      "para x = 25\n",
      "12.5\n",
      "8.333333333333334\n",
      "6.25\n",
      "5.0\n",
      "4.166666666666667\n",
      "3.5714285714285716\n",
      "3.125\n",
      "2.7777777777777777\n",
      "2.5\n",
      "2.272727272727273\n",
      "2.0833333333333335\n",
      "1.9230769230769231\n",
      "1.7857142857142858\n",
      "1.6666666666666667\n",
      "1.5625\n",
      "1.4705882352941178\n",
      "1.3888888888888888\n",
      "1.3157894736842106\n",
      "1.25\n",
      "1.1904761904761905\n",
      "1.1363636363636365\n",
      "1.0869565217391304\n",
      "1.0416666666666667\n",
      "para x = 26\n",
      "13.0\n",
      "8.666666666666666\n",
      "6.5\n",
      "5.2\n",
      "4.333333333333333\n",
      "3.7142857142857144\n",
      "3.25\n",
      "2.888888888888889\n",
      "2.6\n",
      "2.3636363636363638\n",
      "2.1666666666666665\n",
      "2.0\n",
      "1.8571428571428572\n",
      "1.7333333333333334\n",
      "1.625\n",
      "1.5294117647058822\n",
      "1.4444444444444444\n",
      "1.368421052631579\n",
      "1.3\n",
      "1.2380952380952381\n",
      "1.1818181818181819\n",
      "1.1304347826086956\n",
      "1.0833333333333333\n",
      "1.04\n",
      "para x = 27\n",
      "13.5\n",
      "9.0\n",
      "6.75\n",
      "5.4\n",
      "4.5\n",
      "3.857142857142857\n",
      "3.375\n",
      "3.0\n",
      "2.7\n",
      "2.4545454545454546\n",
      "2.25\n",
      "2.076923076923077\n",
      "1.9285714285714286\n",
      "1.8\n",
      "1.6875\n",
      "1.588235294117647\n",
      "1.5\n",
      "1.4210526315789473\n",
      "1.35\n",
      "1.2857142857142858\n",
      "1.2272727272727273\n",
      "1.173913043478261\n",
      "1.125\n",
      "1.08\n",
      "1.0384615384615385\n",
      "para x = 28\n",
      "14.0\n",
      "9.333333333333334\n",
      "7.0\n",
      "5.6\n",
      "4.666666666666667\n",
      "4.0\n",
      "3.5\n",
      "3.111111111111111\n",
      "2.8\n",
      "2.5454545454545454\n",
      "2.3333333333333335\n",
      "2.1538461538461537\n",
      "2.0\n",
      "1.8666666666666667\n",
      "1.75\n",
      "1.6470588235294117\n",
      "1.5555555555555556\n",
      "1.4736842105263157\n",
      "1.4\n",
      "1.3333333333333333\n",
      "1.2727272727272727\n",
      "1.2173913043478262\n",
      "1.1666666666666667\n",
      "1.12\n",
      "1.0769230769230769\n",
      "1.037037037037037\n",
      "para x = 29\n",
      "14.5\n",
      "9.666666666666666\n",
      "7.25\n",
      "5.8\n",
      "4.833333333333333\n",
      "4.142857142857143\n",
      "3.625\n",
      "3.2222222222222223\n",
      "2.9\n",
      "2.6363636363636362\n",
      "2.4166666666666665\n",
      "2.230769230769231\n",
      "2.0714285714285716\n",
      "1.9333333333333333\n",
      "1.8125\n",
      "1.7058823529411764\n",
      "1.6111111111111112\n",
      "1.5263157894736843\n",
      "1.45\n",
      "1.380952380952381\n",
      "1.3181818181818181\n",
      "1.2608695652173914\n",
      "1.2083333333333333\n",
      "1.16\n",
      "1.1153846153846154\n",
      "1.0740740740740742\n",
      "1.0357142857142858\n",
      "para x = 30\n",
      "15.0\n",
      "10.0\n",
      "7.5\n",
      "6.0\n",
      "5.0\n",
      "4.285714285714286\n",
      "3.75\n",
      "3.3333333333333335\n",
      "3.0\n",
      "2.727272727272727\n",
      "2.5\n",
      "2.3076923076923075\n",
      "2.142857142857143\n",
      "2.0\n",
      "1.875\n",
      "1.7647058823529411\n",
      "1.6666666666666667\n",
      "1.5789473684210527\n",
      "1.5\n",
      "1.4285714285714286\n",
      "1.3636363636363635\n",
      "1.3043478260869565\n",
      "1.25\n",
      "1.2\n",
      "1.1538461538461537\n",
      "1.1111111111111112\n",
      "1.0714285714285714\n",
      "1.0344827586206897\n"
     ]
    }
   ],
   "source": [
    "for x in range(2,31):\n",
    "    print('para x =', x)\n",
    "    for y in range(2,x):\n",
    "        print (x/y)"
   ]
  },
  {
   "cell_type": "code",
   "execution_count": 57,
   "metadata": {},
   "outputs": [
    {
     "name": "stdout",
     "output_type": "stream",
     "text": [
      "2\n",
      "3\n",
      "5\n",
      "7\n",
      "11\n",
      "13\n",
      "17\n",
      "19\n",
      "23\n",
      "29\n"
     ]
    }
   ],
   "source": [
    "for x in range (2,31):\n",
    "    primo = True\n",
    "    for y in range(2,x):\n",
    "        if (x%y == 0):\n",
    "            primo = False\n",
    "    if (primo == True):\n",
    "        print(x)"
   ]
  },
  {
   "attachments": {},
   "cell_type": "markdown",
   "metadata": {},
   "source": [
    "10) ¿Se puede mejorar el proceso del punto 9? Utilizar las sentencias break y/ó continue para tal fin"
   ]
  },
  {
   "cell_type": "code",
   "execution_count": 58,
   "metadata": {},
   "outputs": [
    {
     "name": "stdout",
     "output_type": "stream",
     "text": [
      "2\n",
      "3\n",
      "5\n",
      "7\n",
      "11\n",
      "13\n",
      "17\n",
      "19\n",
      "23\n",
      "29\n"
     ]
    }
   ],
   "source": [
    "for x in range (2,31):\n",
    "    primo = True\n",
    "    for y in range(2,x):\n",
    "        if (x%y == 0):\n",
    "            primo = False\n",
    "            break\n",
    "    if (primo == True):\n",
    "        print(x)"
   ]
  },
  {
   "attachments": {},
   "cell_type": "markdown",
   "metadata": {},
   "source": [
    "11) En los puntos 9 y 10, se diseño un código que encuentra números primos y además se lo optimizó. ¿Es posible saber en qué medida se optimizó?"
   ]
  },
  {
   "cell_type": "code",
   "execution_count": 7,
   "metadata": {},
   "outputs": [
    {
     "name": "stdout",
     "output_type": "stream",
     "text": [
      "2\n",
      "3\n",
      "5\n",
      "7\n",
      "11\n",
      "13\n",
      "17\n",
      "19\n",
      "23\n",
      "29\n",
      "cantidad de ciclos:  52\n"
     ]
    }
   ],
   "source": [
    "ciclos1 = 0\n",
    "for x in range (2,31):\n",
    "    primo = True\n",
    "    for y in range(2,x):\n",
    "        if (x%y == 0):\n",
    "            primo = False\n",
    "            ciclos1 += 1\n",
    "    if (primo == True):\n",
    "        print(x)\n",
    "print('cantidad de ciclos: ', ciclos1)"
   ]
  },
  {
   "cell_type": "code",
   "execution_count": 8,
   "metadata": {},
   "outputs": [
    {
     "name": "stdout",
     "output_type": "stream",
     "text": [
      "2\n",
      "3\n",
      "5\n",
      "7\n",
      "11\n",
      "13\n",
      "17\n",
      "19\n",
      "23\n",
      "29\n",
      "cantidad de ciclos:  19\n"
     ]
    }
   ],
   "source": [
    "ciclos2 = 0\n",
    "for x in range (2,31):\n",
    "    primo = True\n",
    "    for y in range(2,x):\n",
    "        if (x%y == 0):\n",
    "            primo = False\n",
    "            ciclos2 += 1\n",
    "            break\n",
    "    if (primo == True):\n",
    "        print(x)\n",
    "print('cantidad de ciclos: ', ciclos2)"
   ]
  },
  {
   "cell_type": "code",
   "execution_count": 17,
   "metadata": {},
   "outputs": [
    {
     "name": "stdout",
     "output_type": "stream",
     "text": [
      "el código sin optimización tiene 52 ciclos\n",
      "y el código con optimización con sentencia break tiene 19,\n",
      "por lo que se optimiza un 36.53846153846153% dicho código\n"
     ]
    }
   ],
   "source": [
    "optimizado = ciclos2/ciclos1*100\n",
    "print(f'el código sin optimización tiene {ciclos1} ciclos')\n",
    "print(f'y el código con optimización con sentencia break tiene {ciclos2},')\n",
    "print(f'por lo que se optimiza un {optimizado}% dicho código')"
   ]
  },
  {
   "attachments": {},
   "cell_type": "markdown",
   "metadata": {},
   "source": [
    "12) Aplicando continue, armar un ciclo while que solo imprima los valores divisibles por 12, dentro del rango de números de 100 a 300"
   ]
  },
  {
   "cell_type": "code",
   "execution_count": 36,
   "metadata": {},
   "outputs": [
    {
     "name": "stdout",
     "output_type": "stream",
     "text": [
      "El número 108 es divisible por 12\n",
      "El número 120 es divisible por 12\n",
      "El número 132 es divisible por 12\n",
      "El número 144 es divisible por 12\n",
      "El número 156 es divisible por 12\n",
      "El número 168 es divisible por 12\n",
      "El número 180 es divisible por 12\n",
      "El número 192 es divisible por 12\n",
      "El número 204 es divisible por 12\n",
      "El número 216 es divisible por 12\n",
      "El número 228 es divisible por 12\n",
      "El número 240 es divisible por 12\n",
      "El número 252 es divisible por 12\n",
      "El número 264 es divisible por 12\n",
      "El número 276 es divisible por 12\n",
      "El número 288 es divisible por 12\n",
      "El número 300 es divisible por 12\n"
     ]
    }
   ],
   "source": [
    "divisible = 99\n",
    "while (divisible <= 300):\n",
    "    divisible += 1\n",
    "    if (divisible%12 != 0):\n",
    "        continue\n",
    "    print(f'El número {divisible} es divisible por 12')"
   ]
  },
  {
   "attachments": {},
   "cell_type": "markdown",
   "metadata": {},
   "source": [
    "13) Utilizar la función **input()** que permite hacer ingresos por teclado, para encontrar números primos y dar la opción al usario de buscar el siguiente"
   ]
  },
  {
   "cell_type": "code",
   "execution_count": null,
   "metadata": {},
   "outputs": [],
   "source": [
    "for x in range (2,31):\n",
    "    primo = True\n",
    "    for y in range(2,x):\n",
    "        if (x%y == 0):\n",
    "            primo = False\n",
    "            break\n",
    "    if (primo == True):\n",
    "        print(x)"
   ]
  },
  {
   "cell_type": "code",
   "execution_count": 9,
   "metadata": {},
   "outputs": [
    {
     "name": "stdout",
     "output_type": "stream",
     "text": [
      "El número 2 es primo\n",
      "¿Desea buscar el siguiente número primo? responda si/no\n",
      "El número 3 es primo\n",
      "¿Desea buscar el siguiente número primo? responda si/no\n",
      "El número 5 es primo\n",
      "¿Desea buscar el siguiente número primo? responda si/no\n",
      "El número 7 es primo\n",
      "¿Desea buscar el siguiente número primo? responda si/no\n"
     ]
    }
   ],
   "source": [
    "numero = 2\n",
    "while (numero > 0):\n",
    "    primo = True\n",
    "    for x in range(2, numero):\n",
    "        if (numero%x ==0):\n",
    "            primo = False        \n",
    "    if (primo == True):\n",
    "        print(f'El número {numero} es primo')\n",
    "        print('¿Desea buscar el siguiente número primo? responda si/no')\n",
    "        if (input(str) != 'si'):\n",
    "            break\n",
    "    numero += 1"
   ]
  },
  {
   "attachments": {},
   "cell_type": "markdown",
   "metadata": {},
   "source": [
    "14) Crear un ciclo while que encuentre dentro del rango de 100 a 300 el primer número divisible por 3 y además múltiplo de 6"
   ]
  },
  {
   "cell_type": "code",
   "execution_count": 39,
   "metadata": {},
   "outputs": [
    {
     "name": "stdout",
     "output_type": "stream",
     "text": [
      "El número 102 es divisible por 3 y además múltiplo de 6\n"
     ]
    }
   ],
   "source": [
    "divisible = 99\n",
    "while (divisible <= 300):\n",
    "    divisible += 1\n",
    "    if (divisible%6 != 0):\n",
    "        continue\n",
    "    print(f'El número {divisible} es divisible por 3 y además múltiplo de 6')\n",
    "    break"
   ]
  }
 ],
 "metadata": {
  "interpreter": {
   "hash": "c85384e4cb51c8b72350f3a8712cc8351fdc3955e32a27f9b60c6242ab125f01"
  },
  "kernelspec": {
   "display_name": "Python 3 (ipykernel)",
   "language": "python",
   "name": "python3"
  },
  "language_info": {
   "codemirror_mode": {
    "name": "ipython",
    "version": 3
   },
   "file_extension": ".py",
   "mimetype": "text/x-python",
   "name": "python",
   "nbconvert_exporter": "python",
   "pygments_lexer": "ipython3",
   "version": "3.12.0"
  }
 },
 "nbformat": 4,
 "nbformat_minor": 4
}
