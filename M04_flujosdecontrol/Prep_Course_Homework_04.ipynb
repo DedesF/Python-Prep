{
 "cells": [
  {
   "attachments": {},
   "cell_type": "markdown",
   "metadata": {},
   "source": [
    "## Flujos de Control"
   ]
  },
  {
   "attachments": {},
   "cell_type": "markdown",
   "metadata": {},
   "source": [
    "1) Crear una variable que contenga un elemento del conjunto de números enteros y luego imprimir por pantalla si es mayor o menor a cero"
   ]
  },
  {
   "cell_type": "code",
   "execution_count": 4,
   "metadata": {},
   "outputs": [
    {
     "name": "stdout",
     "output_type": "stream",
     "text": [
      "a es mayor que 0\n"
     ]
    }
   ],
   "source": [
    "a = 8\n",
    "if (a > 0):\n",
    "    print('a es mayor que 0')\n",
    "elif (a < 0):\n",
    "    print('a es menor que 0')\n",
    "else:\n",
    "    print('a es igual a 0')"
   ]
  },
  {
   "attachments": {},
   "cell_type": "markdown",
   "metadata": {},
   "source": [
    "2) Crear dos variables y un condicional que informe si son del mismo tipo de dato"
   ]
  },
  {
   "cell_type": "code",
   "execution_count": 5,
   "metadata": {},
   "outputs": [
    {
     "name": "stdout",
     "output_type": "stream",
     "text": [
      "a y b son de distinto tipo, a es del tipo  <class 'int'> y b es del tipo  <class 'str'>\n"
     ]
    }
   ],
   "source": [
    "a = 8\n",
    "b = '8'\n",
    "\n",
    "if (type(a)==b):\n",
    "    print('a y b son ambas del tipo ', type(a))\n",
    "else:\n",
    "    print('a y b son de distinto tipo, a es del tipo ', type(a), 'y b es del tipo ', type(b))"
   ]
  },
  {
   "attachments": {},
   "cell_type": "markdown",
   "metadata": {},
   "source": [
    "3) Para los valores enteros del 1 al 20, imprimir por pantalla si es par o impar"
   ]
  },
  {
   "cell_type": "code",
   "execution_count": 6,
   "metadata": {},
   "outputs": [
    {
     "name": "stdout",
     "output_type": "stream",
     "text": [
      "El número 1 es impar\n",
      "El número 2 es par\n",
      "El número 3 es impar\n",
      "El número 4 es par\n",
      "El número 5 es impar\n",
      "El número 6 es par\n",
      "El número 7 es impar\n",
      "El número 8 es par\n",
      "El número 9 es impar\n",
      "El número 10 es par\n",
      "El número 11 es impar\n",
      "El número 12 es par\n",
      "El número 13 es impar\n",
      "El número 14 es par\n",
      "El número 15 es impar\n",
      "El número 16 es par\n",
      "El número 17 es impar\n",
      "El número 18 es par\n",
      "El número 19 es impar\n",
      "El número 20 es par\n"
     ]
    }
   ],
   "source": [
    "for x in range(1,21):\n",
    "    if (x % 2 == 0):\n",
    "        print(f'El número {str(x)} es par')\n",
    "    else:\n",
    "        print(f'El número {str(x)} es impar')"
   ]
  },
  {
   "attachments": {},
   "cell_type": "markdown",
   "metadata": {},
   "source": [
    "4) En un ciclo for mostrar para los valores entre 0 y 5 el resultado de elevarlo a la potencia igual a 3"
   ]
  },
  {
   "cell_type": "code",
   "execution_count": 7,
   "metadata": {},
   "outputs": [
    {
     "name": "stdout",
     "output_type": "stream",
     "text": [
      "0\n",
      "1\n",
      "8\n",
      "27\n",
      "64\n",
      "125\n"
     ]
    }
   ],
   "source": [
    "for x in range(6):\n",
    "    print(x**3)"
   ]
  },
  {
   "attachments": {},
   "cell_type": "markdown",
   "metadata": {},
   "source": [
    "5) Crear una variable que contenga un número entero y realizar un ciclo for la misma cantidad de ciclos"
   ]
  },
  {
   "cell_type": "code",
   "execution_count": 8,
   "metadata": {},
   "outputs": [
    {
     "name": "stdout",
     "output_type": "stream",
     "text": [
      "0\n",
      "1\n",
      "2\n",
      "3\n",
      "4\n"
     ]
    }
   ],
   "source": [
    "a = 5\n",
    "for x in range(a):\n",
    "    print(x)"
   ]
  },
  {
   "attachments": {},
   "cell_type": "markdown",
   "metadata": {},
   "source": [
    "6) Utilizar un ciclo while para realizar el factorial de un número guardado en una variable, sólo si la variable contiene un número entero mayor a 0"
   ]
  },
  {
   "cell_type": "code",
   "execution_count": 32,
   "metadata": {},
   "outputs": [
    {
     "name": "stdout",
     "output_type": "stream",
     "text": [
      "720\n"
     ]
    }
   ],
   "source": [
    "# El factorial de un número es la multiplicación de todos los enteros entre 1 y dicho múmero\n",
    "var = 6 # Factorial = 1*2*3*4*5\n",
    "if (var <= 0):\n",
    "    print('Se requiere un número entero mayor a 0')\n",
    "elif (type(var) != int):\n",
    "    print('Se requiere un número entero mayor a 0')\n",
    "else:\n",
    "    x = 1 \n",
    "    fact = 1  \n",
    "    while (x <= var):\n",
    "        fact = fact * x\n",
    "        x += 1\n",
    "print(fact)"
   ]
  },
  {
   "cell_type": "code",
   "execution_count": 27,
   "metadata": {},
   "outputs": [
    {
     "name": "stdout",
     "output_type": "stream",
     "text": [
      "120\n"
     ]
    }
   ],
   "source": [
    "x = 1\n",
    "fact = 1\n",
    "while (x <= 5):        \n",
    "    fact = fact*x \n",
    "    x += 1\n",
    "print(fact)"
   ]
  },
  {
   "attachments": {},
   "cell_type": "markdown",
   "metadata": {},
   "source": [
    "7) Crear un ciclo for dentro de un ciclo while"
   ]
  },
  {
   "cell_type": "code",
   "execution_count": 10,
   "metadata": {},
   "outputs": [
    {
     "name": "stdout",
     "output_type": "stream",
     "text": [
      "multiplicación de 1\n",
      "1\n",
      "2\n",
      "multiplicación de 2\n",
      "2\n",
      "4\n",
      "multiplicación de 3\n",
      "3\n",
      "6\n",
      "multiplicación de 4\n",
      "4\n",
      "8\n",
      "multiplicación de 5\n",
      "5\n",
      "10\n"
     ]
    }
   ],
   "source": [
    "x = 1\n",
    "while (x <= 5):\n",
    "    print(f'multiplicación de {x}')\n",
    "    for y in range(1,3):\n",
    "        print(y*x)\n",
    "    x += 1"
   ]
  },
  {
   "attachments": {},
   "cell_type": "markdown",
   "metadata": {},
   "source": [
    "8) Crear un ciclo while dentro de un ciclo for"
   ]
  },
  {
   "cell_type": "code",
   "execution_count": 11,
   "metadata": {},
   "outputs": [
    {
     "name": "stdout",
     "output_type": "stream",
     "text": [
      "Multiplicación de 0\n",
      "0 x 1 = 0\n",
      "0 x 2 = 0\n",
      "0 x 3 = 0\n",
      "Multiplicación de 1\n",
      "1 x 1 = 1\n",
      "1 x 2 = 2\n",
      "1 x 3 = 3\n",
      "Multiplicación de 2\n",
      "2 x 1 = 2\n",
      "2 x 2 = 4\n",
      "2 x 3 = 6\n"
     ]
    }
   ],
   "source": [
    "for x in range(3):\n",
    "    print(f'Multiplicación de {x}')\n",
    "    y = 1\n",
    "    while (y <= 3):\n",
    "        print(f'{x} x {y} = {x*y}')\n",
    "        y += 1"
   ]
  },
  {
   "attachments": {},
   "cell_type": "markdown",
   "metadata": {},
   "source": [
    "9) Imprimir los números primos existentes entre 0 y 30"
   ]
  },
  {
   "cell_type": "code",
   "execution_count": 57,
   "metadata": {},
   "outputs": [
    {
     "name": "stdout",
     "output_type": "stream",
     "text": [
      "2\n",
      "3\n",
      "5\n",
      "7\n",
      "11\n",
      "13\n",
      "17\n",
      "19\n",
      "23\n",
      "29\n"
     ]
    }
   ],
   "source": [
    "for x in range (2,31):\n",
    "    primo = True\n",
    "    for y in range(2,x):\n",
    "        if (x%y == 0):\n",
    "            primo = False\n",
    "    if (primo == True):\n",
    "        print(x)"
   ]
  },
  {
   "attachments": {},
   "cell_type": "markdown",
   "metadata": {},
   "source": [
    "10) ¿Se puede mejorar el proceso del punto 9? Utilizar las sentencias break y/ó continue para tal fin"
   ]
  },
  {
   "cell_type": "code",
   "execution_count": 58,
   "metadata": {},
   "outputs": [
    {
     "name": "stdout",
     "output_type": "stream",
     "text": [
      "2\n",
      "3\n",
      "5\n",
      "7\n",
      "11\n",
      "13\n",
      "17\n",
      "19\n",
      "23\n",
      "29\n"
     ]
    }
   ],
   "source": [
    "for x in range (2,31):\n",
    "    primo = True\n",
    "    for y in range(2,x):\n",
    "        if (x%y == 0):\n",
    "            primo = False\n",
    "            break\n",
    "    if (primo == True):\n",
    "        print(x)"
   ]
  },
  {
   "attachments": {},
   "cell_type": "markdown",
   "metadata": {},
   "source": [
    "11) En los puntos 9 y 10, se diseño un código que encuentra números primos y además se lo optimizó. ¿Es posible saber en qué medida se optimizó?"
   ]
  },
  {
   "cell_type": "code",
   "execution_count": 7,
   "metadata": {},
   "outputs": [
    {
     "name": "stdout",
     "output_type": "stream",
     "text": [
      "2\n",
      "3\n",
      "5\n",
      "7\n",
      "11\n",
      "13\n",
      "17\n",
      "19\n",
      "23\n",
      "29\n",
      "cantidad de ciclos:  52\n"
     ]
    }
   ],
   "source": [
    "ciclos1 = 0\n",
    "for x in range (2,31):\n",
    "    primo = True\n",
    "    for y in range(2,x):\n",
    "        if (x%y == 0):\n",
    "            primo = False\n",
    "            ciclos1 += 1\n",
    "    if (primo == True):\n",
    "        print(x)\n",
    "print('cantidad de ciclos: ', ciclos1)"
   ]
  },
  {
   "cell_type": "code",
   "execution_count": 8,
   "metadata": {},
   "outputs": [
    {
     "name": "stdout",
     "output_type": "stream",
     "text": [
      "2\n",
      "3\n",
      "5\n",
      "7\n",
      "11\n",
      "13\n",
      "17\n",
      "19\n",
      "23\n",
      "29\n",
      "cantidad de ciclos:  19\n"
     ]
    }
   ],
   "source": [
    "ciclos2 = 0\n",
    "for x in range (2,31):\n",
    "    primo = True\n",
    "    for y in range(2,x):\n",
    "        if (x%y == 0):\n",
    "            primo = False\n",
    "            ciclos2 += 1\n",
    "            break\n",
    "    if (primo == True):\n",
    "        print(x)\n",
    "print('cantidad de ciclos: ', ciclos2)"
   ]
  },
  {
   "cell_type": "code",
   "execution_count": 17,
   "metadata": {},
   "outputs": [
    {
     "name": "stdout",
     "output_type": "stream",
     "text": [
      "el código sin optimización tiene 52 ciclos\n",
      "y el código con optimización con sentencia break tiene 19,\n",
      "por lo que se optimiza un 36.53846153846153% dicho código\n"
     ]
    }
   ],
   "source": [
    "optimizado = ciclos2/ciclos1*100\n",
    "print(f'el código sin optimización tiene {ciclos1} ciclos')\n",
    "print(f'y el código con optimización con sentencia break tiene {ciclos2},')\n",
    "print(f'por lo que se optimiza un {optimizado}% dicho código')"
   ]
  },
  {
   "attachments": {},
   "cell_type": "markdown",
   "metadata": {},
   "source": [
    "12) Aplicando continue, armar un ciclo while que solo imprima los valores divisibles por 12, dentro del rango de números de 100 a 300"
   ]
  },
  {
   "cell_type": "code",
   "execution_count": 36,
   "metadata": {},
   "outputs": [
    {
     "name": "stdout",
     "output_type": "stream",
     "text": [
      "El número 108 es divisible por 12\n",
      "El número 120 es divisible por 12\n",
      "El número 132 es divisible por 12\n",
      "El número 144 es divisible por 12\n",
      "El número 156 es divisible por 12\n",
      "El número 168 es divisible por 12\n",
      "El número 180 es divisible por 12\n",
      "El número 192 es divisible por 12\n",
      "El número 204 es divisible por 12\n",
      "El número 216 es divisible por 12\n",
      "El número 228 es divisible por 12\n",
      "El número 240 es divisible por 12\n",
      "El número 252 es divisible por 12\n",
      "El número 264 es divisible por 12\n",
      "El número 276 es divisible por 12\n",
      "El número 288 es divisible por 12\n",
      "El número 300 es divisible por 12\n"
     ]
    }
   ],
   "source": [
    "divisible = 99\n",
    "while (divisible <= 300):\n",
    "    divisible += 1\n",
    "    if (divisible%12 != 0):\n",
    "        continue\n",
    "    print(f'El número {divisible} es divisible por 12')"
   ]
  },
  {
   "attachments": {},
   "cell_type": "markdown",
   "metadata": {},
   "source": [
    "13) Utilizar la función **input()** que permite hacer ingresos por teclado, para encontrar números primos y dar la opción al usario de buscar el siguiente"
   ]
  },
  {
   "cell_type": "code",
   "execution_count": null,
   "metadata": {},
   "outputs": [],
   "source": [
    "for x in range (2,31):\n",
    "    primo = True\n",
    "    for y in range(2,x):\n",
    "        if (x%y == 0):\n",
    "            primo = False\n",
    "            break\n",
    "    if (primo == True):\n",
    "        print(x)"
   ]
  },
  {
   "cell_type": "code",
   "execution_count": 9,
   "metadata": {},
   "outputs": [
    {
     "name": "stdout",
     "output_type": "stream",
     "text": [
      "El número 2 es primo\n",
      "¿Desea buscar el siguiente número primo? responda si/no\n",
      "El número 3 es primo\n",
      "¿Desea buscar el siguiente número primo? responda si/no\n",
      "El número 5 es primo\n",
      "¿Desea buscar el siguiente número primo? responda si/no\n",
      "El número 7 es primo\n",
      "¿Desea buscar el siguiente número primo? responda si/no\n"
     ]
    }
   ],
   "source": [
    "numero = 2\n",
    "while (numero > 0):\n",
    "    primo = True\n",
    "    for x in range(2, numero):\n",
    "        if (numero%x ==0):\n",
    "            primo = False        \n",
    "    if (primo == True):\n",
    "        print(f'El número {numero} es primo')\n",
    "        print('¿Desea buscar el siguiente número primo? responda si/no')\n",
    "        if (input(str) != 'si'):\n",
    "            break\n",
    "    numero += 1"
   ]
  },
  {
   "attachments": {},
   "cell_type": "markdown",
   "metadata": {},
   "source": [
    "14) Crear un ciclo while que encuentre dentro del rango de 100 a 300 el primer número divisible por 3 y además múltiplo de 6"
   ]
  },
  {
   "cell_type": "code",
   "execution_count": 39,
   "metadata": {},
   "outputs": [
    {
     "name": "stdout",
     "output_type": "stream",
     "text": [
      "El número 102 es divisible por 3 y además múltiplo de 6\n"
     ]
    }
   ],
   "source": [
    "divisible = 99\n",
    "while (divisible <= 300):\n",
    "    divisible += 1\n",
    "    if (divisible%6 != 0):\n",
    "        continue\n",
    "    print(f'El número {divisible} es divisible por 3 y además múltiplo de 6')\n",
    "    break"
   ]
  }
 ],
 "metadata": {
  "interpreter": {
   "hash": "c85384e4cb51c8b72350f3a8712cc8351fdc3955e32a27f9b60c6242ab125f01"
  },
  "kernelspec": {
   "display_name": "Python 3 (ipykernel)",
   "language": "python",
   "name": "python3"
  },
  "language_info": {
   "codemirror_mode": {
    "name": "ipython",
    "version": 3
   },
   "file_extension": ".py",
   "mimetype": "text/x-python",
   "name": "python",
   "nbconvert_exporter": "python",
   "pygments_lexer": "ipython3",
   "version": "3.12.0"
  }
 },
 "nbformat": 4,
 "nbformat_minor": 4
}
