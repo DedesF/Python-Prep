{
 "cells": [
  {
   "cell_type": "code",
   "execution_count": 47,
   "metadata": {},
   "outputs": [],
   "source": [
    "def ClaseAnimal(especie, color):\n",
    "    '''\n",
    "    Esta función devuelve un objeto instanciado de la clase Animal, \n",
    "    la cual debe tener los siguientes atributos:\n",
    "        Edad    (Un valor de tipo de dato entero, que debe inicializarse en cero)\n",
    "        Especie (Un valor de tipo de dato string)\n",
    "        Color   (Un valor de tipo de dato string)\n",
    "    y debe tener el siguiente método:\n",
    "        CumplirAnios  (este método debe sumar uno al atributo Edad y debe devolver ese valor)\n",
    "    Recibe dos argumento:\n",
    "        especie: Dato que se asignará al atributo Especie del objeto de la clase Animal\n",
    "        color: Dato que se asignará al atributo Color del objeto de la clase Animal\n",
    "    Ej:\n",
    "        a = ClaseAnimal('perro','blanco')\n",
    "        a.CumpliAnios() -> debe devolver 1\n",
    "        a.CumpliAnios() -> debe devolver 2\n",
    "        a.CumpliAnios() -> debe devolver 3\n",
    "    '''\n",
    "    class ClaseAnimal:\n",
    "        def __init__(self, especie: str, color: str):\n",
    "            self.especie = especie\n",
    "            self.color = color\n",
    "            self.edad = int(0)\n",
    "            \n",
    "        def CumplirAnios(self):\n",
    "            self.edad += 1\n",
    "            \n",
    "            return self.edad\n",
    "            \n",
    "    animal = ClaseAnimal(especie, color)  \n",
    "    return animal  \n",
    "        "
   ]
  },
  {
   "cell_type": "code",
   "execution_count": 48,
   "metadata": {},
   "outputs": [
    {
     "name": "stdout",
     "output_type": "stream",
     "text": [
      "<__main__.ClaseAnimal.<locals>.ClaseAnimal object at 0x0000025EE933F280>\n"
     ]
    }
   ],
   "source": [
    "a = ClaseAnimal('perro', 'negro')\n",
    "print(a)"
   ]
  },
  {
   "cell_type": "code",
   "execution_count": 50,
   "metadata": {},
   "outputs": [
    {
     "data": {
      "text/plain": [
       "2"
      ]
     },
     "execution_count": 50,
     "metadata": {},
     "output_type": "execute_result"
    }
   ],
   "source": [
    "a.CumplirAnios()"
   ]
  },
  {
   "cell_type": "code",
   "execution_count": 114,
   "metadata": {},
   "outputs": [
    {
     "name": "stdout",
     "output_type": "stream",
     "text": [
      "<class 'list'>\n",
      "1\n",
      "3\n"
     ]
    }
   ],
   "source": [
    "num = 11713\n",
    "\n",
    "cadena = list(str(num))\n",
    "\n",
    "print(type(cadena))\n",
    "\n",
    "print(cadena[0])\n",
    "print(cadena[len(cadena)-(1)])"
   ]
  },
  {
   "cell_type": "code",
   "execution_count": 115,
   "metadata": {},
   "outputs": [
    {
     "name": "stdout",
     "output_type": "stream",
     "text": [
      "El no número es simétrico\n"
     ]
    }
   ],
   "source": [
    "numsimetrico = True\n",
    "\n",
    "i = 0\n",
    "while (i < ((len(cadena)-1)/2)):    \n",
    "    if cadena[i] != cadena[(len(cadena)-1)-i]:\n",
    "        numsimetrico = False\n",
    "        break    \n",
    "    i += 1\n",
    "\n",
    "if numsimetrico:\n",
    "    print('El número es simétrico')\n",
    "else:\n",
    "    print('El no número es simétrico')"
   ]
  }
 ],
 "metadata": {
  "kernelspec": {
   "display_name": "Python 3",
   "language": "python",
   "name": "python3"
  },
  "language_info": {
   "codemirror_mode": {
    "name": "ipython",
    "version": 3
   },
   "file_extension": ".py",
   "mimetype": "text/x-python",
   "name": "python",
   "nbconvert_exporter": "python",
   "pygments_lexer": "ipython3",
   "version": "3.10.6"
  }
 },
 "nbformat": 4,
 "nbformat_minor": 2
}
