{
 "cells": [
  {
   "attachments": {},
   "cell_type": "markdown",
   "metadata": {},
   "source": [
    "## Clases y Programación Orientada a Objetos"
   ]
  },
  {
   "attachments": {},
   "cell_type": "markdown",
   "metadata": {},
   "source": [
    "1) Crear la clase vehículo que contenga los atributos:<br>\n",
    "Color<br>\n",
    "Si es moto, auto, camioneta ó camión<br>\n",
    "Cilindrada del motor"
   ]
  },
  {
   "cell_type": "code",
   "execution_count": null,
   "metadata": {},
   "outputs": [],
   "source": [
    "class vehiculo:\n",
    "    def __init__(self, color, tipo, cilindrada):\n",
    "        self.color = color\n",
    "        self.tipo = tipo\n",
    "        self.cilindrada = cilindrada\n",
    "    "
   ]
  },
  {
   "attachments": {},
   "cell_type": "markdown",
   "metadata": {},
   "source": [
    "2) A la clase Vehiculo creada en el punto 1, agregar los siguientes métodos:<br>\n",
    "Acelerar<br>\n",
    "Frenar<br>\n",
    "Doblar<br>"
   ]
  },
  {
   "cell_type": "code",
   "execution_count": null,
   "metadata": {},
   "outputs": [],
   "source": [
    "class vehiculo:\n",
    "    def __init__(self, color, tipo, cilindrada):\n",
    "        self.color = color\n",
    "        self.tipo = tipo\n",
    "        self.cilindrada = cilindrada\n",
    "        self.velocidad = 0\n",
    "        self.direccion = 'derecho'\n",
    "\n",
    "    def acelerar(self, num):\n",
    "        self.velocidad += num\n",
    "        print('El vehículo', self.color, 'tipo', self.tipo, 'aumentó su velocidad a', self.velocidad, 'km/h')\n",
    "\n",
    "    def frenar(self, num):\n",
    "        self.velocidad -= num\n",
    "        print('El vehículo', self.color, 'tipo', self.tipo, 'disminuyó su velocidad a', self.velocidad, 'km/h')\n",
    "\n",
    "    def doblar(self, sentido):        \n",
    "        self.direccion = sentido\n",
    "        print('El vehículo', self.color, 'tipo', self.tipo, 'dobló a la', self.direccion)\n",
    "        "
   ]
  },
  {
   "attachments": {},
   "cell_type": "markdown",
   "metadata": {},
   "source": [
    "3) Instanciar 3 objetos de la clase vehículo y ejecutar sus métodos, probar luego el resultado"
   ]
  },
  {
   "cell_type": "code",
   "execution_count": null,
   "metadata": {},
   "outputs": [],
   "source": [
    "moto = vehiculo('blanco', 'moto', '321cc')\n",
    "auto = vehiculo('blanco', 'auto', '1500cc')\n",
    "camioneta = vehiculo('rojo', 'camioneta', '2800cc')"
   ]
  },
  {
   "cell_type": "code",
   "execution_count": null,
   "metadata": {},
   "outputs": [],
   "source": [
    "auto.acelerar(40)\n",
    "auto.frenar(30)\n",
    "auto.doblar('derecha')"
   ]
  },
  {
   "attachments": {},
   "cell_type": "markdown",
   "metadata": {},
   "source": [
    "4) Agregar a la clase Vehiculo, un método que muestre su estado, es decir, a que velocidad se encuentra y su dirección. Y otro método que muestre color, tipo y cilindrada"
   ]
  },
  {
   "cell_type": "code",
   "execution_count": null,
   "metadata": {},
   "outputs": [],
   "source": [
    "class vehiculo:\n",
    "    def __init__(self, color, tipo, cilindrada):\n",
    "        self.color = color\n",
    "        self.tipo = tipo\n",
    "        self.cilindrada = cilindrada\n",
    "        self.velocidad = 0\n",
    "        self.direccion = 'derecho'     \n",
    "\n",
    "    def acelerar(self, num):\n",
    "        self.velocidad += num\n",
    "        print('El vehículo', self.color, 'tipo', self.tipo, 'aumentó su velocidad a', self.velocidad, 'km/h')\n",
    "\n",
    "    def frenar(self, num):\n",
    "        self.velocidad -= num\n",
    "        print('El vehículo', self.color, 'tipo', self.tipo, 'disminuyó su velocidad a', self.velocidad, 'km/h')\n",
    "\n",
    "    def doblar(self, sentido):        \n",
    "        self.direccion = sentido\n",
    "        print('El vehículo', self.color, 'tipo', self.tipo, 'dobló a la', self.direccion)\n",
    "\n",
    "    def estado(self):        \n",
    "        if (self.direccion == 'derecho'):\n",
    "            print('El vehículo viaja a', self.velocidad, 'km/h y va', self.direccion)\n",
    "        else:\n",
    "            print('El vehículo viaja a', self.velocidad, 'km/h y dobla a la', self.direccion)\n",
    "\n",
    "    def detalle(self):        \n",
    "        print('El vehículo es tipo', self.tipo, ', de color', self.color, 'y cilindrada', self.cilindrada )"
   ]
  },
  {
   "cell_type": "code",
   "execution_count": null,
   "metadata": {},
   "outputs": [],
   "source": [
    "camion = vehiculo('azul', 'camion', '18000 cc')\n",
    "moto = vehiculo('blanco', 'moto', '321cc')\n",
    "auto = vehiculo('blanco', 'auto', '1500cc')\n",
    "camioneta = vehiculo('rojo', 'camioneta', '2800cc')"
   ]
  },
  {
   "cell_type": "code",
   "execution_count": null,
   "metadata": {},
   "outputs": [],
   "source": [
    "auto.detalle()\n",
    "camion.estado()"
   ]
  },
  {
   "attachments": {},
   "cell_type": "markdown",
   "metadata": {},
   "source": [
    "5) Crear una clase que permita utilizar las funciones creadas en la práctica del módulo 7<br>\n",
    "Verificar Primo<br>\n",
    "Valor modal<br>\n",
    "Conversión grados<br>\n",
    "Factorial<br>"
   ]
  },
  {
   "cell_type": "code",
   "execution_count": null,
   "metadata": {},
   "outputs": [],
   "source": [
    "class calcular:\n",
    "    def __init__(self):\n",
    "        pass      \n",
    "        # self.valores = valores        \n",
    "\n",
    "    def primos(num):\n",
    "        primo = True\n",
    "        if (num <= 1):\n",
    "            primo = False\n",
    "        else:\n",
    "            for y in range(2, num):\n",
    "                if (num%y == 0):\n",
    "                    primo = False\n",
    "                    break\n",
    "        return primo\n",
    "    \n",
    "    def moda(lista):\n",
    "        unicos = []\n",
    "        repeticiones = []\n",
    "        maximo = 0\n",
    "\n",
    "        for elemento in lista:\n",
    "            if elemento not in unicos:\n",
    "                unicos.append(elemento)\n",
    "\n",
    "        for elemento in unicos:\n",
    "            contador = 0\n",
    "            for repetido in lista:\n",
    "                if (elemento == repetido):\n",
    "                    contador += 1\n",
    "            repeticiones.append(contador)\n",
    "\n",
    "        for i, elemento in enumerate(repeticiones):\n",
    "            \n",
    "            if (maximo < repeticiones[i]):\n",
    "                maximo = repeticiones[i]\n",
    "                repetido = unicos[i]\n",
    "                \n",
    "        return repetido, maximo\n",
    "    \n",
    "    def convertir(valor, origen, destino):\n",
    "        resultado = 0\n",
    "        if (origen == 'celsius'):\n",
    "            if (destino == 'celsius'):\n",
    "                resultado = valor\n",
    "            elif (destino == 'farenheit'):\n",
    "                resultado = (valor * 9 / 5) + 32\n",
    "            elif (destino == 'kelvin'):\n",
    "                resultado = valor + 273.15\n",
    "        elif (origen == 'farenheit'):\n",
    "            if (destino == 'celsius'):\n",
    "                resultado = (valor - 32) * 5 / 9\n",
    "            elif (destino == 'farenheit'):\n",
    "                resultado = valor\n",
    "            elif (destino == 'kelvin'):\n",
    "                resultado = ((valor - 32) * 5 / 9) + 273.15\n",
    "        elif (origen == 'kelvin'):\n",
    "            if (destino == 'celsius'):\n",
    "                resultado = valor - 273.15\n",
    "            elif (destino == 'farenheit'):\n",
    "                resultado = ((valor - 273.15) * 9 / 5) + 32\n",
    "            elif (destino == 'kelvin'):\n",
    "                resultado = valor\n",
    "        else:\n",
    "            print(' El valor debe ser un número entero.\\n',\n",
    "                'Origen y destino deben ser celsius, farenheit o kelvin')\n",
    "            return None\n",
    "        \n",
    "        return resultado\n",
    "    \n",
    "    def factorial(nro):\n",
    "        if (type(nro) != int or nro < 0):\n",
    "            print('Debe ingresar un número entero y mayor que 0')\n",
    "            return None\n",
    "        if (nro > 1):\n",
    "            nro = nro * calcular.factorial(nro - 1)\n",
    "        return nro"
   ]
  },
  {
   "attachments": {},
   "cell_type": "markdown",
   "metadata": {},
   "source": [
    "6) Probar las funciones incorporadas en la clase del punto 5"
   ]
  },
  {
   "cell_type": "code",
   "execution_count": null,
   "metadata": {},
   "outputs": [],
   "source": [
    "calcular.primos(7)"
   ]
  },
  {
   "cell_type": "code",
   "execution_count": null,
   "metadata": {},
   "outputs": [],
   "source": [
    "lista = [1,1,2,3,4,4,4,4,4,5]\n",
    "calcular.moda(lista)"
   ]
  },
  {
   "cell_type": "code",
   "execution_count": null,
   "metadata": {},
   "outputs": [],
   "source": [
    "calcular.convertir(45, 'celsius', 'kelvin')"
   ]
  },
  {
   "cell_type": "code",
   "execution_count": null,
   "metadata": {},
   "outputs": [],
   "source": [
    "calcular.factorial(5)"
   ]
  },
  {
   "attachments": {},
   "cell_type": "markdown",
   "metadata": {},
   "source": [
    "7) Es necesario que la clase creada en el punto 5 contenga una lista, sobre la cual se apliquen las funciones incorporadas"
   ]
  },
  {
   "cell_type": "code",
   "execution_count": 141,
   "metadata": {},
   "outputs": [],
   "source": [
    "class calcular:\n",
    "    def __init__(self):\n",
    "        pass   \n",
    "\n",
    "    def primoslist(lista):\n",
    "        for elemento in lista:\n",
    "            primo = True\n",
    "            if (elemento <= 1):\n",
    "                primo = False\n",
    "                print('El número', elemento, 'no es primo')\n",
    "                \n",
    "            else:                \n",
    "                for y in range(2, elemento):\n",
    "                    if (elemento%y == 0):\n",
    "                        primo = False\n",
    "                if (primo == True):\n",
    "                    print('El número', elemento, 'es primo')\n",
    "                else:\n",
    "                    print('El número', elemento, 'no es primo')\n",
    "    \n",
    "    def convertirlist(lista, origen, destino):\n",
    "        for valor in lista:\n",
    "            if (origen == 'celsius'):\n",
    "                if (destino == 'celsius'):\n",
    "                    print(valor,'grados celcius son', valor, 'grados celsius')\n",
    "                elif (destino == 'farenheit'):\n",
    "                    print(valor,'grados celcius son',(valor * 9 / 5) + 32, 'grados farenheit')\n",
    "                elif (destino == 'kelvin'):\n",
    "                    print(valor,'grados celcius son',valor + 273.15, 'grados kelvin')\n",
    "            elif (origen == 'farenheit'):\n",
    "                if (destino == 'celsius'):\n",
    "                    print(valor,'grados farenheit son',(valor - 32) * 5 / 9, 'grados celsius')\n",
    "                elif (destino == 'farenheit'):\n",
    "                    print(valor,'grados farenheit son',valor, 'grados farenheit')\n",
    "                elif (destino == 'kelvin'):\n",
    "                    print(valor,'grados farenheit son',((valor - 32) * 5 / 9) + 273.15, 'grados kelvin')\n",
    "            elif (origen == 'kelvin'):\n",
    "                if (destino == 'celsius'):\n",
    "                    print(valor,'grados kelvin son',valor - 273.15, 'grados celcius')\n",
    "                elif (destino == 'farenheit'):\n",
    "                    print(valor,'grados kelvin son',((valor - 273.15) * 9 / 5) + 32, 'grados farenheit')\n",
    "                elif (destino == 'kelvin'):\n",
    "                    print(valor,'grados kelvin son',valor, 'grados kelvin')\n",
    "            else:\n",
    "                print(' El valor debe ser un número entero.\\n',\n",
    "                    'Origen y destino deben ser celsius, farenheit o kelvin')                \n",
    "    \n",
    "    def factoriallist(lista):\n",
    "        for i, nro in enumerate(lista):\n",
    "            if (type(nro) != int or nro < 0):\n",
    "                print('Debe ingresar un número entero y mayor que 0')\n",
    "                \n",
    "            elif (lista[i] == 0):\n",
    "                print('El factorial de 0 es 1')\n",
    "                \n",
    "            elif (nro > 1):                \n",
    "                nro = nro * calcular.factorial(nro - 1)\n",
    "                print('el factorial de', lista[i], 'es', nro)\n",
    "        \n",
    "    \n",
    "    def primos(num):\n",
    "        primo = True\n",
    "        if (num <= 1):\n",
    "            primo = False\n",
    "        else:\n",
    "            for y in range(2, num):\n",
    "                if (num%y == 0):\n",
    "                    primo = False\n",
    "                    break\n",
    "        return primo\n",
    "    \n",
    "    def moda(lista):\n",
    "        unicos = []\n",
    "        repeticiones = []\n",
    "        maximo = 0\n",
    "\n",
    "        for elemento in lista:\n",
    "            if elemento not in unicos:\n",
    "                unicos.append(elemento)\n",
    "\n",
    "        for elemento in unicos:\n",
    "            contador = 0\n",
    "            for repetido in lista:\n",
    "                if (elemento == repetido):\n",
    "                    contador += 1\n",
    "            repeticiones.append(contador)\n",
    "\n",
    "        for i, elemento in enumerate(repeticiones):\n",
    "            \n",
    "            if (maximo < repeticiones[i]):\n",
    "                maximo = repeticiones[i]\n",
    "                repetido = unicos[i]\n",
    "                \n",
    "        return repetido, maximo\n",
    "    \n",
    "    def convertir(valor, origen, destino):\n",
    "        resultado = 0\n",
    "        if (origen == 'celsius'):\n",
    "            if (destino == 'celsius'):\n",
    "                resultado = valor\n",
    "            elif (destino == 'farenheit'):\n",
    "                resultado = (valor * 9 / 5) + 32\n",
    "            elif (destino == 'kelvin'):\n",
    "                resultado = valor + 273.15\n",
    "        elif (origen == 'farenheit'):\n",
    "            if (destino == 'celsius'):\n",
    "                resultado = (valor - 32) * 5 / 9\n",
    "            elif (destino == 'farenheit'):\n",
    "                resultado = valor\n",
    "            elif (destino == 'kelvin'):\n",
    "                resultado = ((valor - 32) * 5 / 9) + 273.15\n",
    "        elif (origen == 'kelvin'):\n",
    "            if (destino == 'celsius'):\n",
    "                resultado = valor - 273.15\n",
    "            elif (destino == 'farenheit'):\n",
    "                resultado = ((valor - 273.15) * 9 / 5) + 32\n",
    "            elif (destino == 'kelvin'):\n",
    "                resultado = valor\n",
    "        else:\n",
    "            print(' El valor debe ser un número entero.\\n',\n",
    "                'Origen y destino deben ser celsius, farenheit o kelvin')\n",
    "            return None\n",
    "        \n",
    "        return resultado\n",
    "    \n",
    "    def factorial(nro):\n",
    "        if (type(nro) != int or nro < 0):\n",
    "            print('Debe ingresar un número entero y mayor que 0')\n",
    "            return None\n",
    "        if (nro > 1):\n",
    "            nro = nro * calcular.factorial(nro - 1)\n",
    "        return nro"
   ]
  },
  {
   "cell_type": "code",
   "execution_count": 143,
   "metadata": {},
   "outputs": [
    {
     "data": {
      "text/plain": [
       "False"
      ]
     },
     "execution_count": 143,
     "metadata": {},
     "output_type": "execute_result"
    }
   ],
   "source": [
    "calcular.primos(4)"
   ]
  },
  {
   "cell_type": "code",
   "execution_count": 142,
   "metadata": {},
   "outputs": [
    {
     "name": "stdout",
     "output_type": "stream",
     "text": [
      "Debe ingresar un número entero y mayor que 0\n",
      "El factorial de 0 es 1\n",
      "el factorial de 2 es 2\n",
      "el factorial de 3 es 6\n",
      "el factorial de 4 es 24\n",
      "el factorial de 5 es 120\n",
      "el factorial de 6 es 720\n",
      "el factorial de 7 es 5040\n",
      "el factorial de 8 es 40320\n",
      "el factorial de 9 es 362880\n"
     ]
    }
   ],
   "source": [
    "ls = [-6,0,1,2,3,4,5,6,7,8,9]\n",
    "calcular.factoriallist(ls)"
   ]
  },
  {
   "attachments": {},
   "cell_type": "markdown",
   "metadata": {},
   "source": [
    "8) Crear un archivo .py aparte y ubicar allí la clase generada en el punto anterior. Luego realizar la importación del módulo y probar alguna de sus funciones"
   ]
  },
  {
   "cell_type": "code",
   "execution_count": 144,
   "metadata": {},
   "outputs": [],
   "source": [
    "from calcular import *"
   ]
  },
  {
   "cell_type": "code",
   "execution_count": 145,
   "metadata": {},
   "outputs": [
    {
     "name": "stdout",
     "output_type": "stream",
     "text": [
      "El número 1 no es primo\n",
      "El número 2 es primo\n",
      "El número 3 es primo\n",
      "El número 4 no es primo\n",
      "El número 5 es primo\n",
      "El número 6 no es primo\n",
      "El número 7 es primo\n",
      "El número 8 no es primo\n",
      "El número 9 no es primo\n"
     ]
    }
   ],
   "source": [
    "lis2 =[1,2,3,4,5,6,7,8,9]\n",
    "calcular.primoslist(lis2)"
   ]
  }
 ],
 "metadata": {
  "interpreter": {
   "hash": "c85384e4cb51c8b72350f3a8712cc8351fdc3955e32a27f9b60c6242ab125f01"
  },
  "kernelspec": {
   "display_name": "Python 3 (ipykernel)",
   "language": "python",
   "name": "python3"
  },
  "language_info": {
   "codemirror_mode": {
    "name": "ipython",
    "version": 3
   },
   "file_extension": ".py",
   "mimetype": "text/x-python",
   "name": "python",
   "nbconvert_exporter": "python",
   "pygments_lexer": "ipython3",
   "version": "3.10.6"
  }
 },
 "nbformat": 4,
 "nbformat_minor": 4
}
